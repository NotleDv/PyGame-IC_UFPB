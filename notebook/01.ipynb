{
 "cells": [
  {
   "cell_type": "code",
   "execution_count": 1,
   "id": "d325e5fc",
   "metadata": {},
   "outputs": [],
   "source": [
    "matriz = []\n",
    "\n",
    "\n",
    "for i in range(3):\n",
    "    matriz.append([None]*3)\n",
    "    "
   ]
  },
  {
   "cell_type": "code",
   "execution_count": 2,
   "id": "f8a70674",
   "metadata": {},
   "outputs": [
    {
     "data": {
      "text/plain": [
       "0"
      ]
     },
     "execution_count": 2,
     "metadata": {},
     "output_type": "execute_result"
    }
   ],
   "source": [
    "a = {'asdf':0}\n",
    "a['asdf']"
   ]
  },
  {
   "cell_type": "code",
   "execution_count": null,
   "id": "2a724dd4",
   "metadata": {},
   "outputs": [],
   "source": []
  },
  {
   "cell_type": "code",
   "execution_count": 2,
   "id": "c4cc0291",
   "metadata": {},
   "outputs": [],
   "source": [
    "def bg():\n",
    "    w = 300\n",
    "    h = 300\n",
    "\n",
    "    var_w = 300/3\n",
    "    var_h = 300/3\n",
    "\n",
    "    matriz\n",
    "    for index, i in enumerate(matriz):\n",
    "        for index_j, j in enumerate(i):\n",
    "                \n",
    "                matriz[index][index_j] = (var_w*(index_j+1), var_h*index)"
   ]
  },
  {
   "cell_type": "code",
   "execution_count": 3,
   "id": "d0edacd2",
   "metadata": {},
   "outputs": [
    {
     "data": {
      "text/plain": [
       "array([[ 0,  1,  0,  0],\n",
       "       [ 1, -1, -1,  1],\n",
       "       [ 1, -1,  1,  0],\n",
       "       [ 0,  0,  0,  1]])"
      ]
     },
     "execution_count": 3,
     "metadata": {},
     "output_type": "execute_result"
    }
   ],
   "source": [
    "import numpy as np\n",
    "import random\n",
    "lista = [0]*7 + [1]*6 + [-1]*3\n",
    "random.shuffle(lista)\n",
    "\n",
    "lista = np.array(lista)\n",
    "\n",
    "matriz_prob = lista.reshape(-1, 4)\n",
    "matriz_prob"
   ]
  },
  {
   "cell_type": "code",
   "execution_count": 4,
   "id": "1fa97ebb",
   "metadata": {},
   "outputs": [
    {
     "data": {
      "text/plain": [
       "array([0, 1, 0, 0])"
      ]
     },
     "execution_count": 4,
     "metadata": {},
     "output_type": "execute_result"
    }
   ],
   "source": [
    "matriz_prob[0]"
   ]
  },
  {
   "cell_type": "code",
   "execution_count": 5,
   "id": "3ec873ee",
   "metadata": {},
   "outputs": [
    {
     "name": "stdout",
     "output_type": "stream",
     "text": [
      "400.0049999687504\n"
     ]
    }
   ],
   "source": [
    "a = (0, 100)\n",
    "b = (2, 500)\n",
    "import math\n",
    "print(math.dist(a, b))\n",
    "#print(math.isclose(a, b, abs_tol=1))\n"
   ]
  },
  {
   "cell_type": "code",
   "execution_count": 6,
   "id": "f4d5dc17",
   "metadata": {},
   "outputs": [
    {
     "name": "stdout",
     "output_type": "stream",
     "text": [
      "0\n",
      "1\n",
      "2\n",
      "3\n"
     ]
    }
   ],
   "source": [
    "l = 0\n",
    "for i in range(2):\n",
    "    for k in range(2):\n",
    "        print(l)\n",
    "        l+=1"
   ]
  },
  {
   "cell_type": "code",
   "execution_count": 7,
   "id": "9acc8391",
   "metadata": {},
   "outputs": [
    {
     "name": "stdout",
     "output_type": "stream",
     "text": [
      "[{'valor': 0}, {'valor': 1}, {'valor': 0}]\n",
      "[{'valor': -1}, {'valor': 0}, {'valor': 1}]\n",
      "[{'valor': 1}, {'valor': 0}, {'valor': 0}]\n"
     ]
    }
   ],
   "source": [
    "import numpy as np\n",
    "import random\n",
    "lista = [0]*7 + [1]*6 + [-1]*3\n",
    "random.shuffle(lista)\n",
    "\n",
    "lista = np.array(lista)\n",
    "\n",
    "matriz_prob = lista.reshape(-1, 4)\n",
    "matriz_prob\n",
    "\n",
    "\n",
    "w = 300\n",
    "h = 300\n",
    "\n",
    "var_w = 300/3\n",
    "var_h = 300/3\n",
    "\n",
    "matriz\n",
    "for index, i in enumerate(matriz):\n",
    "    for index_j, j in enumerate(i):            \n",
    "        matriz[index][index_j] = {'valor': matriz_prob[index][index_j].item()}\n",
    "\n",
    "    print(i)\n",
    "    \n",
    "    "
   ]
  },
  {
   "cell_type": "code",
   "execution_count": 8,
   "id": "afa020a6",
   "metadata": {},
   "outputs": [
    {
     "data": {
      "text/plain": [
       "[{'valor': -1}, {'valor': 0}, {'valor': 1}]"
      ]
     },
     "execution_count": 8,
     "metadata": {},
     "output_type": "execute_result"
    }
   ],
   "source": [
    "matriz[1]"
   ]
  },
  {
   "cell_type": "code",
   "execution_count": 62,
   "id": "2c0cae64",
   "metadata": {},
   "outputs": [
    {
     "name": "stdout",
     "output_type": "stream",
     "text": [
      "| H: 0 V: 0 v: 0 R: 0 | H: 1 V: 0 v: 1 R: 1 | H: 2 V: 0 v: 0 R: 2 | H: 3 V: 0 v: -1 R: 3 \n",
      "| H: 0 V: 1 v: -1 R: 4 | H: 1 V: 1 v: 0 R: 5 | H: 2 V: 1 v: 1 R: 6 | H: 3 V: 1 v: 1 R: 7 \n",
      "| H: 0 V: 2 v: 1 R: 8 | H: 1 V: 2 v: 0 R: 9 | H: 2 V: 2 v: 0 R: 10 | H: 3 V: 2 v: -1 R: 11 \n",
      "| H: 0 V: 3 v: 1 R: 12 | H: 1 V: 3 v: 0 R: 13 | H: 2 V: 3 v: 0 R: 14 | H: 3 V: 3 v: 1 R: 15 \n",
      "--------------------\n",
      "0 1 0 -1 \n",
      "-1 0 1 1 \n",
      "1 0 0 -1 \n",
      "1 0 0 1 \n"
     ]
    }
   ],
   "source": [
    "       \n",
    "## Matriz Crua\n",
    "matriz = []\n",
    "for i in range(4):\n",
    "    matriz.append([None]*4)\n",
    "## Preenchendo com as coordenadas\n",
    "posic_relativa = 0\n",
    "for index, i in enumerate(matriz):    \n",
    "    \n",
    "    for index_j, j in enumerate(i):        \n",
    "    \n",
    "        \n",
    "        matriz[index][index_j] = {'valor': matriz_prob[index][index_j].item(), 'posicao_relativa': posic_relativa, 'posicao_ralativa_h_matriz': index_j, 'posicao_ralativa_v_matriz': index}\n",
    "        \n",
    "        posic_relativa+=1\n",
    "        \n",
    "        print('| H:',matriz[index][index_j]['posicao_ralativa_h_matriz'], 'V:',matriz[index][index_j]['posicao_ralativa_v_matriz'], 'v:',matriz[index][index_j]['valor'], 'R:',matriz[index][index_j]['posicao_relativa'], end=' ')\n",
    "    print()\n",
    "print('--------------------')     \n",
    "for index, i in enumerate(matriz):    \n",
    "    for index_j, j in enumerate(i):\n",
    "        print(i[index_j]['valor'], end=' ')\n",
    "    print()"
   ]
  },
  {
   "cell_type": "code",
   "execution_count": 100,
   "id": "2333d97d",
   "metadata": {},
   "outputs": [],
   "source": [
    "n = 0"
   ]
  },
  {
   "cell_type": "code",
   "execution_count": null,
   "id": "a022e43d",
   "metadata": {},
   "outputs": [
    {
     "name": "stdout",
     "output_type": "stream",
     "text": [
      "posição n:  0 0\n",
      "{'valor': 1, 'posicao_relativa': 1, 'posicao_ralativa_h_matriz': 1, 'posicao_ralativa_v_matriz': 0}\n",
      "1\n"
     ]
    }
   ],
   "source": [
    "count = 0\n",
    "len_matriz = len(matriz)\n",
    "qtd_trofeu = 0\n",
    "\n",
    "\n",
    "## Search_matriz é para buscar os baús da próximidade\n",
    "def search_matriz(p_horizontal:int, p_vertical:int, matriz=matriz) -> int: \n",
    "    h_min = matriz[0][0]['posicao_ralativa_h_matriz']\n",
    "    h_max = matriz[0][-1]['posicao_ralativa_h_matriz']\n",
    "    v_min = matriz[0][0]['posicao_ralativa_v_matriz']\n",
    "    v_max = matriz[-1][-1]['posicao_ralativa_v_matriz']\n",
    "    \n",
    "    result = 0\n",
    "    if (p_horizontal >= h_min and p_vertical >= v_min):\n",
    "        if (p_horizontal <= h_max and p_vertical <= v_max):\n",
    "            if matriz[p_vertical][h]['valor'] == 1:\n",
    "                result = 1\n",
    "\n",
    "    return result\n",
    "    \n",
    "posicao_h = 0\n",
    "posicao_v = 0\n",
    "for i in matriz:\n",
    "    for j in i:\n",
    "        if j['posicao_relativa'] == n:\n",
    "            posicao_h = j['posicao_ralativa_h_matriz']\n",
    "            posicao_v = j['posicao_ralativa_v_matriz']\n",
    "            break\n",
    "\n",
    "print('posição n: ',posicao_h, posicao_v)     \n",
    "qtd_trofeu += search_matriz(posicao_h+1, posicao_v)\n",
    "qtd_trofeu += search_matriz(posicao_h-1, posicao_v)\n",
    "qtd_trofeu += search_matriz(posicao_h, posicao_v-1)\n",
    "qtd_trofeu += search_matriz(posicao_h, posicao_v+1)\n",
    "      \n",
    "print(qtd_trofeu)\n",
    "            "
   ]
  },
  {
   "cell_type": "code",
   "execution_count": null,
   "id": "5a683c8f",
   "metadata": {},
   "outputs": [],
   "source": [
    "for index, i in enumerate(matriz):    \n",
    "    ## Verificando se está na linha zero\n",
    "    if index == 0:\n",
    "        validacao = False\n",
    "        for element in i:\n",
    "            if element['posicao_relativa'] == n:\n",
    "                validacao = True\n",
    "                posicao = element['posicao_ralativa_matriz']\n",
    "        \n",
    "        if validacao:\n",
    "            qtd_trofeu += asdk((posicao-1), i)\n",
    "            qtd_trofeu += asdk((posicao+1), i)\n",
    "            qtd_trofeu += asdk((posicao), matriz[index+1])\n",
    "            break\n",
    "    \n",
    "    else:\n",
    "        posicao = element['posicao_ralativa_matriz']\n",
    "        qtd_trofeu += asdk((posicao-1), i)\n",
    "        qtd_trofeu += asdk((posicao+1), i)\n",
    "        qtd_trofeu += asdk((posicao), matriz[index+1])\n",
    "        qtd_trofeu += asdk((posicao), matriz[index-1])\n",
    "        break\n",
    "        \n",
    "    ## Verificando se está na última linha\n",
    "    if index == len_matriz-1:\n",
    "        validacao = False\n",
    "        for element in i:\n",
    "            if element['posicao_relativa'] == n:\n",
    "                validacao = True\n",
    "                posicao = element['posicao_ralativa_matriz']\n",
    "        \n",
    "        if validacao:\n",
    "            qtd_trofeu += asdk((posicao-1), i)\n",
    "            qtd_trofeu += asdk((posicao+1), i)\n",
    "            qtd_trofeu += asdk((posicao), matriz[index-1])"
   ]
  },
  {
   "cell_type": "code",
   "execution_count": 18,
   "id": "f0b2c8c4",
   "metadata": {},
   "outputs": [
    {
     "data": {
      "text/plain": [
       "[[{'posicao': (0.0, 0.0), 'valor': 1},\n",
       "  {'posicao': (100.0, 0.0), 'valor': 1},\n",
       "  {'posicao': (200.0, 0.0), 'valor': 1},\n",
       "  {'posicao': (300.0, 0.0), 'valor': 0}],\n",
       " [{'posicao': (0.0, 100.0), 'valor': -1},\n",
       "  {'posicao': (100.0, 100.0), 'valor': 0},\n",
       "  {'posicao': (200.0, 100.0), 'valor': 0},\n",
       "  {'posicao': (300.0, 100.0), 'valor': 0}],\n",
       " [{'posicao': (0.0, 200.0), 'valor': 0},\n",
       "  {'posicao': (100.0, 200.0), 'valor': 1},\n",
       "  {'posicao': (200.0, 200.0), 'valor': 1},\n",
       "  {'posicao': (300.0, 200.0), 'valor': 0}],\n",
       " [{'posicao': (0.0, 300.0), 'valor': -1},\n",
       "  {'posicao': (100.0, 300.0), 'valor': 0},\n",
       "  {'posicao': (200.0, 300.0), 'valor': 1},\n",
       "  {'posicao': (300.0, 300.0), 'valor': -1}]]"
      ]
     },
     "execution_count": 18,
     "metadata": {},
     "output_type": "execute_result"
    }
   ],
   "source": [
    "matriz"
   ]
  },
  {
   "cell_type": "code",
   "execution_count": 17,
   "id": "60e18703",
   "metadata": {},
   "outputs": [
    {
     "ename": "TypeError",
     "evalue": "must be real number, not str",
     "output_type": "error",
     "traceback": [
      "\u001b[31m---------------------------------------------------------------------------\u001b[39m",
      "\u001b[31mTypeError\u001b[39m                                 Traceback (most recent call last)",
      "\u001b[36mCell\u001b[39m\u001b[36m \u001b[39m\u001b[32mIn[17]\u001b[39m\u001b[32m, line 6\u001b[39m\n\u001b[32m      4\u001b[39m \u001b[38;5;28;01mfor\u001b[39;00m index_j, j \u001b[38;5;129;01min\u001b[39;00m \u001b[38;5;28menumerate\u001b[39m(i):\n\u001b[32m      5\u001b[39m     val_matriz = matriz[index][index_j]\n\u001b[32m----> \u001b[39m\u001b[32m6\u001b[39m     distancia = \u001b[43mmath\u001b[49m\u001b[43m.\u001b[49m\u001b[43mdist\u001b[49m\u001b[43m(\u001b[49m\u001b[43mk\u001b[49m\u001b[43m,\u001b[49m\u001b[43m \u001b[49m\u001b[43mval_matriz\u001b[49m\u001b[43m)\u001b[49m  \n\u001b[32m      7\u001b[39m     lista.append({\u001b[33m'\u001b[39m\u001b[33mdist\u001b[39m\u001b[33m'\u001b[39m: distancia, \u001b[33m'\u001b[39m\u001b[33mval_matriz\u001b[39m\u001b[33m'\u001b[39m: val_matriz})\n",
      "\u001b[31mTypeError\u001b[39m: must be real number, not str"
     ]
    }
   ],
   "source": [
    "k = (676, 141)\n",
    "lista = []\n",
    "for index, i in enumerate(matriz):\n",
    "    for index_j, j in enumerate(i):\n",
    "        val_matriz = matriz[index][index_j]\n",
    "        distancia = math.dist(k, val_matriz)  \n",
    "        lista.append({'dist': distancia, 'val_matriz': val_matriz})"
   ]
  },
  {
   "cell_type": "code",
   "execution_count": null,
   "id": "33cec8df",
   "metadata": {},
   "outputs": [
    {
     "data": {
      "text/plain": [
       "array([ 1,  1,  0,  0,  1, -1,  1,  0,  0,  1, -1,  0, -1,  0,  1,  0])"
      ]
     },
     "execution_count": 104,
     "metadata": {},
     "output_type": "execute_result"
    }
   ],
   "source": [
    "lista"
   ]
  },
  {
   "cell_type": "code",
   "execution_count": null,
   "id": "02d1b880",
   "metadata": {},
   "outputs": [],
   "source": []
  },
  {
   "cell_type": "code",
   "execution_count": null,
   "id": "1e918390",
   "metadata": {},
   "outputs": [
    {
     "name": "stdout",
     "output_type": "stream",
     "text": [
      "{'posicao': (0.0, 0.0), 'valor': 1}\n",
      "{'posicao': (100.0, 0.0), 'valor': -1}\n",
      "{'posicao': (200.0, 0.0), 'valor': 1}\n",
      "{'posicao': (300.0, 0.0), 'valor': 1}\n",
      "{'posicao': (0.0, 100.0), 'valor': 1}\n",
      "{'posicao': (100.0, 100.0), 'valor': 0}\n",
      "{'posicao': (200.0, 100.0), 'valor': 1}\n",
      "{'posicao': (300.0, 100.0), 'valor': 0}\n",
      "{'posicao': (0.0, 200.0), 'valor': 0}\n",
      "{'posicao': (100.0, 200.0), 'valor': -1}\n",
      "{'posicao': (200.0, 200.0), 'valor': 0}\n",
      "{'posicao': (300.0, 200.0), 'valor': 0}\n",
      "{'posicao': (0.0, 300.0), 'valor': 0}\n",
      "{'posicao': (100.0, 300.0), 'valor': 1}\n",
      "{'posicao': (200.0, 300.0), 'valor': 0}\n",
      "{'posicao': (300.0, 300.0), 'valor': -1}\n"
     ]
    }
   ],
   "source": [
    "for i in matriz:\n",
    "    for k in i:\n",
    "        print(k)"
   ]
  },
  {
   "cell_type": "code",
   "execution_count": null,
   "id": "5940c148",
   "metadata": {},
   "outputs": [
    {
     "data": {
      "text/plain": [
       "{'posicao': (0.0, 0.0), 'valor': 1}"
      ]
     },
     "execution_count": 115,
     "metadata": {},
     "output_type": "execute_result"
    }
   ],
   "source": [
    "matriz[0][0]"
   ]
  },
  {
   "cell_type": "code",
   "execution_count": 20,
   "id": "814c7441",
   "metadata": {},
   "outputs": [],
   "source": [
    "jogada = [\n",
    "        {'jogada_atual':0 , 'player_atual': 'play_01'},\n",
    "        {'jogada_anterior':0 , 'player_anterior': 'play_02'}\n",
    "    ]"
   ]
  },
  {
   "cell_type": "code",
   "execution_count": 23,
   "id": "ff9c31e6",
   "metadata": {},
   "outputs": [
    {
     "name": "stdout",
     "output_type": "stream",
     "text": [
      "jogada_atual\n",
      "player_atual\n",
      "jogada_anterior\n",
      "player_anterior\n"
     ]
    }
   ],
   "source": [
    "for k in jogada:\n",
    "    for a,b in k.items():\n",
    "        print(a)"
   ]
  },
  {
   "cell_type": "code",
   "execution_count": 1,
   "id": "2728f277",
   "metadata": {},
   "outputs": [],
   "source": [
    "history_points = {'play_01': 0, 'play_02':0}\n",
    "jogada = {'jogada_atual':0 , 'player_atual': 'play_01','jogada_anterior':0 , 'player_anterior': 'play_02'}"
   ]
  },
  {
   "cell_type": "code",
   "execution_count": 19,
   "id": "bd573218",
   "metadata": {},
   "outputs": [],
   "source": [
    "h = 1"
   ]
  },
  {
   "cell_type": "code",
   "execution_count": 31,
   "id": "c387adf4",
   "metadata": {},
   "outputs": [
    {
     "name": "stdout",
     "output_type": "stream",
     "text": [
      "13\n"
     ]
    }
   ],
   "source": [
    "\n",
    "def a (b):\n",
    "    b+=1\n",
    "    return b\n",
    "    \n",
    "h = a(h)\n",
    "print(h)"
   ]
  },
  {
   "cell_type": "code",
   "execution_count": 33,
   "id": "8ce83e72",
   "metadata": {},
   "outputs": [],
   "source": [
    "b = ['a', 'aa', 'aaa']\n",
    "\n",
    "if 'a1' in b:\n",
    "    print(1)"
   ]
  },
  {
   "cell_type": "code",
   "execution_count": 48,
   "id": "9bc23e6d",
   "metadata": {},
   "outputs": [
    {
     "name": "stderr",
     "output_type": "stream",
     "text": [
      "100%|██████████| 300/300 [00:06<00:00, 49.26it/s]\n"
     ]
    }
   ],
   "source": [
    "from tqdm import tqdm\n",
    "import time\n",
    "\n",
    "for i in tqdm(range(60*5, 0, -1)):\n",
    "    a\n",
    "    time.sleep(0.02)\n"
   ]
  },
  {
   "cell_type": "code",
   "execution_count": 16,
   "id": "c6ddbf05",
   "metadata": {},
   "outputs": [
    {
     "name": "stdout",
     "output_type": "stream",
     "text": [
      "fdsa\n"
     ]
    }
   ],
   "source": [
    "## 2\n",
    "\n",
    "texto = input(\"Digite: \")\n",
    "texto_temp = ''\n",
    "\n",
    "for i in range(1, len(texto)+1):\n",
    "    texto_temp+= texto[-i]\n",
    "\n",
    "print(texto_temp)"
   ]
  },
  {
   "cell_type": "code",
   "execution_count": 17,
   "id": "a281586c",
   "metadata": {},
   "outputs": [
    {
     "name": "stdout",
     "output_type": "stream",
     "text": [
      "9982-1123\n"
     ]
    }
   ],
   "source": [
    "## 3\n",
    "\n",
    "numero = input('Digite')\n",
    "\n",
    "if 'i' in numero:\n",
    "    numero = numero.split('-')\n",
    "    numero = numero[0]+numero[1]\n",
    "\n",
    "if not len(numero) == 9:\n",
    "    numero = \"9\"+numero\n",
    "\n",
    "print(numero)"
   ]
  },
  {
   "cell_type": "code",
   "execution_count": 18,
   "id": "b5abfe9a",
   "metadata": {},
   "outputs": [
    {
     "name": "stdout",
     "output_type": "stream",
     "text": [
      "\n",
      "a\n",
      "as\n",
      "asd\n",
      "asdf\n",
      "asdfa\n",
      "asdfas\n"
     ]
    }
   ],
   "source": [
    "## 4\n",
    "texto = input('Digite: ')\n",
    "for i in range(len(texto)):\n",
    "    temp = texto[0:i]\n",
    "    print(temp)"
   ]
  },
  {
   "cell_type": "code",
   "execution_count": null,
   "id": "39f78dfc",
   "metadata": {},
   "outputs": [
    {
     "name": "stdout",
     "output_type": "stream",
     "text": [
      "[[[None, None, None], [None, None, None], [None, None, None]]]\n"
     ]
    },
    {
     "ename": "KeyboardInterrupt",
     "evalue": "Interrupted by user",
     "output_type": "error",
     "traceback": [
      "\u001b[31m---------------------------------------------------------------------------\u001b[39m",
      "\u001b[31mKeyboardInterrupt\u001b[39m                         Traceback (most recent call last)",
      "\u001b[36mCell\u001b[39m\u001b[36m \u001b[39m\u001b[32mIn[29]\u001b[39m\u001b[32m, line 5\u001b[39m\n\u001b[32m      3\u001b[39m \u001b[38;5;28;01mfor\u001b[39;00m id1, i \u001b[38;5;129;01min\u001b[39;00m \u001b[38;5;28menumerate\u001b[39m(matriz):\n\u001b[32m      4\u001b[39m     \u001b[38;5;28;01mfor\u001b[39;00m id2, j \u001b[38;5;129;01min\u001b[39;00m \u001b[38;5;28menumerate\u001b[39m(i):\n\u001b[32m----> \u001b[39m\u001b[32m5\u001b[39m         matriz[id1][id2] = \u001b[38;5;28;43minput\u001b[39;49m\u001b[43m(\u001b[49m\u001b[33;43m'\u001b[39;49m\u001b[33;43mDigite\u001b[39;49m\u001b[33;43m'\u001b[39;49m\u001b[43m)\u001b[49m\n\u001b[32m      7\u001b[39m encontrar = \u001b[38;5;28minput\u001b[39m(\u001b[33m'\u001b[39m\u001b[33mEncontrar: \u001b[39m\u001b[33m'\u001b[39m)\n\u001b[32m      8\u001b[39m encontrado = \u001b[38;5;28;01mFalse\u001b[39;00m\n",
      "\u001b[36mFile \u001b[39m\u001b[32m~/Projetos/Project_PyGame/.venv/lib/python3.11/site-packages/ipykernel/kernelbase.py:1275\u001b[39m, in \u001b[36mKernel.raw_input\u001b[39m\u001b[34m(self, prompt)\u001b[39m\n\u001b[32m   1273\u001b[39m     msg = \u001b[33m\"\u001b[39m\u001b[33mraw_input was called, but this frontend does not support input requests.\u001b[39m\u001b[33m\"\u001b[39m\n\u001b[32m   1274\u001b[39m     \u001b[38;5;28;01mraise\u001b[39;00m StdinNotImplementedError(msg)\n\u001b[32m-> \u001b[39m\u001b[32m1275\u001b[39m \u001b[38;5;28;01mreturn\u001b[39;00m \u001b[38;5;28;43mself\u001b[39;49m\u001b[43m.\u001b[49m\u001b[43m_input_request\u001b[49m\u001b[43m(\u001b[49m\n\u001b[32m   1276\u001b[39m \u001b[43m    \u001b[49m\u001b[38;5;28;43mstr\u001b[39;49m\u001b[43m(\u001b[49m\u001b[43mprompt\u001b[49m\u001b[43m)\u001b[49m\u001b[43m,\u001b[49m\n\u001b[32m   1277\u001b[39m \u001b[43m    \u001b[49m\u001b[38;5;28;43mself\u001b[39;49m\u001b[43m.\u001b[49m\u001b[43m_parent_ident\u001b[49m\u001b[43m[\u001b[49m\u001b[33;43m\"\u001b[39;49m\u001b[33;43mshell\u001b[39;49m\u001b[33;43m\"\u001b[39;49m\u001b[43m]\u001b[49m\u001b[43m,\u001b[49m\n\u001b[32m   1278\u001b[39m \u001b[43m    \u001b[49m\u001b[38;5;28;43mself\u001b[39;49m\u001b[43m.\u001b[49m\u001b[43mget_parent\u001b[49m\u001b[43m(\u001b[49m\u001b[33;43m\"\u001b[39;49m\u001b[33;43mshell\u001b[39;49m\u001b[33;43m\"\u001b[39;49m\u001b[43m)\u001b[49m\u001b[43m,\u001b[49m\n\u001b[32m   1279\u001b[39m \u001b[43m    \u001b[49m\u001b[43mpassword\u001b[49m\u001b[43m=\u001b[49m\u001b[38;5;28;43;01mFalse\u001b[39;49;00m\u001b[43m,\u001b[49m\n\u001b[32m   1280\u001b[39m \u001b[43m\u001b[49m\u001b[43m)\u001b[49m\n",
      "\u001b[36mFile \u001b[39m\u001b[32m~/Projetos/Project_PyGame/.venv/lib/python3.11/site-packages/ipykernel/kernelbase.py:1320\u001b[39m, in \u001b[36mKernel._input_request\u001b[39m\u001b[34m(self, prompt, ident, parent, password)\u001b[39m\n\u001b[32m   1317\u001b[39m \u001b[38;5;28;01mexcept\u001b[39;00m \u001b[38;5;167;01mKeyboardInterrupt\u001b[39;00m:\n\u001b[32m   1318\u001b[39m     \u001b[38;5;66;03m# re-raise KeyboardInterrupt, to truncate traceback\u001b[39;00m\n\u001b[32m   1319\u001b[39m     msg = \u001b[33m\"\u001b[39m\u001b[33mInterrupted by user\u001b[39m\u001b[33m\"\u001b[39m\n\u001b[32m-> \u001b[39m\u001b[32m1320\u001b[39m     \u001b[38;5;28;01mraise\u001b[39;00m \u001b[38;5;167;01mKeyboardInterrupt\u001b[39;00m(msg) \u001b[38;5;28;01mfrom\u001b[39;00m\u001b[38;5;250m \u001b[39m\u001b[38;5;28;01mNone\u001b[39;00m\n\u001b[32m   1321\u001b[39m \u001b[38;5;28;01mexcept\u001b[39;00m \u001b[38;5;167;01mException\u001b[39;00m:\n\u001b[32m   1322\u001b[39m     \u001b[38;5;28mself\u001b[39m.log.warning(\u001b[33m\"\u001b[39m\u001b[33mInvalid Message:\u001b[39m\u001b[33m\"\u001b[39m, exc_info=\u001b[38;5;28;01mTrue\u001b[39;00m)\n",
      "\u001b[31mKeyboardInterrupt\u001b[39m: Interrupted by user"
     ]
    }
   ],
   "source": [
    "matriz = [ [[None]*3]*3 ]\n",
    "\n",
    "\n",
    "for id1, i in enumerate(matriz):\n",
    "    for id2, j in enumerate(i):\n",
    "        matriz[id1][id2] = input('Digite')\n",
    "\n",
    "encontrar = input('Encontrar: ')\n",
    "encontrado = False\n",
    "\n",
    "for id1, i in enumerate(matriz):\n",
    "    if encontrar in i:\n",
    "        print('Encontrado')\n",
    "        encontrado = True\n",
    "        break\n",
    "\n",
    "if not encontrado: print('Não foi encontrado')"
   ]
  },
  {
   "cell_type": "code",
   "execution_count": 8,
   "id": "92ec5f53",
   "metadata": {},
   "outputs": [
    {
     "data": {
      "text/plain": [
       "[[0, 1, 0, -1], [1, 0, 1, 0], [1, 0, 1, -1], [0, -1, 0, 1]]"
      ]
     },
     "execution_count": 8,
     "metadata": {},
     "output_type": "execute_result"
    }
   ],
   "source": [
    "import random  \n",
    "lista = [0]*(7) + [1]*6 + [-1]*3\n",
    "random.shuffle(lista)\n",
    "\n",
    "matriz = []\n",
    "count = 0\n",
    "for i in range(4):\n",
    "    matriz.append([None]*4)\n",
    "    \n",
    "for i in range(4):\n",
    "    for k in range(4):\n",
    "        matriz[i][k] = lista[count]\n",
    "        count+=1\n",
    "\n",
    "    \n",
    "matriz "
   ]
  }
 ],
 "metadata": {
  "kernelspec": {
   "display_name": "Project_PyGame",
   "language": "python",
   "name": "project_pygame"
  },
  "language_info": {
   "codemirror_mode": {
    "name": "ipython",
    "version": 3
   },
   "file_extension": ".py",
   "mimetype": "text/x-python",
   "name": "python",
   "nbconvert_exporter": "python",
   "pygments_lexer": "ipython3",
   "version": "3.11.12"
  }
 },
 "nbformat": 4,
 "nbformat_minor": 5
}
