{
 "cells": [
  {
   "cell_type": "code",
   "execution_count": 22,
   "id": "d325e5fc",
   "metadata": {},
   "outputs": [],
   "source": [
    "matriz = []\n",
    "\n",
    "\n",
    "for i in range(3):\n",
    "    matriz.append([None]*3)\n",
    "    "
   ]
  },
  {
   "cell_type": "code",
   "execution_count": 20,
   "id": "f8a70674",
   "metadata": {},
   "outputs": [
    {
     "name": "stdout",
     "output_type": "stream",
     "text": [
      "None\n"
     ]
    }
   ],
   "source": [
    "print(a[1][1])"
   ]
  },
  {
   "cell_type": "code",
   "execution_count": null,
   "id": "c4cc0291",
   "metadata": {},
   "outputs": [],
   "source": [
    "def bg():\n",
    "    w = 300\n",
    "    h = 300\n",
    "\n",
    "    var_w = 300/3\n",
    "    var_h = 300/3\n",
    "\n",
    "    matriz\n",
    "    for index, i in enumerate(matriz):\n",
    "        for index_j, j in enumerate(i):\n",
    "                \n",
    "                matriz[index][index_j] = (var_w*(index_j+1), var_h*index)"
   ]
  },
  {
   "cell_type": "code",
   "execution_count": null,
   "id": "e3d75463",
   "metadata": {},
   "outputs": [
    {
     "name": "stdout",
     "output_type": "stream",
     "text": [
      "[1, -1, -1, 1, 1, -1, 0, 1, 0, 0, 1, 1]\n"
     ]
    }
   ],
   "source": [
    "import random\n",
    "lista = [0]* + [1]*6 + [-1]*3\n",
    "random.shuffle(lista)\n",
    "print(lista)"
   ]
  },
  {
   "cell_type": "code",
   "execution_count": 72,
   "id": "aa374acb",
   "metadata": {},
   "outputs": [],
   "source": [
    "matriz = []\n",
    "for i in range(4):\n",
    "    matriz.append([None]*4)"
   ]
  },
  {
   "cell_type": "code",
   "execution_count": 73,
   "id": "d0edacd2",
   "metadata": {},
   "outputs": [
    {
     "data": {
      "text/plain": [
       "array([[ 1,  0,  0,  1],\n",
       "       [ 1,  0, -1, -1],\n",
       "       [ 0,  0,  1, -1],\n",
       "       [ 1,  0,  0,  1]])"
      ]
     },
     "execution_count": 73,
     "metadata": {},
     "output_type": "execute_result"
    }
   ],
   "source": [
    "import numpy as np\n",
    "import random\n",
    "lista = [0]*7 + [1]*6 + [-1]*3\n",
    "random.shuffle(lista)\n",
    "\n",
    "lista = np.array(lista)\n",
    "\n",
    "matriz_prob = lista.reshape(-1, 4)\n",
    "matriz_prob"
   ]
  },
  {
   "cell_type": "code",
   "execution_count": 77,
   "id": "1fa97ebb",
   "metadata": {},
   "outputs": [
    {
     "data": {
      "text/plain": [
       "array([1, 0, 0, 1])"
      ]
     },
     "execution_count": 77,
     "metadata": {},
     "output_type": "execute_result"
    }
   ],
   "source": [
    "matriz_prob[0]"
   ]
  },
  {
   "cell_type": "code",
   "execution_count": 108,
   "id": "3ec873ee",
   "metadata": {},
   "outputs": [
    {
     "name": "stdout",
     "output_type": "stream",
     "text": [
      "400.0049999687504\n"
     ]
    }
   ],
   "source": [
    "a = (0, 100)\n",
    "b = (2, 500)\n",
    "import math\n",
    "print(math.dist(a, b))\n",
    "#print(math.isclose(a, b, abs_tol=1))\n"
   ]
  },
  {
   "cell_type": "code",
   "execution_count": 103,
   "id": "f4d5dc17",
   "metadata": {},
   "outputs": [
    {
     "name": "stdout",
     "output_type": "stream",
     "text": [
      "0\n",
      "1\n",
      "2\n",
      "3\n"
     ]
    }
   ],
   "source": [
    "l = 0\n",
    "for i in range(2):\n",
    "    for k in range(2):\n",
    "        print(l)\n",
    "        l+=1"
   ]
  },
  {
   "cell_type": "code",
   "execution_count": 106,
   "id": "9acc8391",
   "metadata": {},
   "outputs": [
    {
     "name": "stdout",
     "output_type": "stream",
     "text": [
      "[{'posicao': (0.0, 0.0), 'valor': 1}, {'posicao': (100.0, 0.0), 'valor': -1}, {'posicao': (200.0, 0.0), 'valor': 1}, {'posicao': (300.0, 0.0), 'valor': 1}]\n",
      "[{'posicao': (0.0, 100.0), 'valor': 1}, {'posicao': (100.0, 100.0), 'valor': 0}, {'posicao': (200.0, 100.0), 'valor': 1}, {'posicao': (300.0, 100.0), 'valor': 0}]\n",
      "[{'posicao': (0.0, 200.0), 'valor': 0}, {'posicao': (100.0, 200.0), 'valor': -1}, {'posicao': (200.0, 200.0), 'valor': 0}, {'posicao': (300.0, 200.0), 'valor': 0}]\n",
      "[{'posicao': (0.0, 300.0), 'valor': 0}, {'posicao': (100.0, 300.0), 'valor': 1}, {'posicao': (200.0, 300.0), 'valor': 0}, {'posicao': (300.0, 300.0), 'valor': -1}]\n"
     ]
    }
   ],
   "source": [
    "import numpy as np\n",
    "import random\n",
    "lista = [0]*7 + [1]*6 + [-1]*3\n",
    "random.shuffle(lista)\n",
    "\n",
    "lista = np.array(lista)\n",
    "\n",
    "matriz_prob = lista.reshape(-1, 4)\n",
    "matriz_prob\n",
    "\n",
    "\n",
    "w = 300\n",
    "h = 300\n",
    "\n",
    "var_w = 300/3\n",
    "var_h = 300/3\n",
    "\n",
    "matriz\n",
    "for index, i in enumerate(matriz):\n",
    "    for index_j, j in enumerate(i):            \n",
    "        matriz[index][index_j] = {'posicao': (var_w*(index_j), var_h*index), 'valor': matriz_prob[index][index_j].item()}\n",
    "\n",
    "    print(i)\n",
    "    \n",
    "    "
   ]
  },
  {
   "cell_type": "code",
   "execution_count": 110,
   "id": "f0b2c8c4",
   "metadata": {},
   "outputs": [
    {
     "data": {
      "text/plain": [
       "1"
      ]
     },
     "execution_count": 110,
     "metadata": {},
     "output_type": "execute_result"
    }
   ],
   "source": [
    "matriz[0][0]['valor']"
   ]
  },
  {
   "cell_type": "code",
   "execution_count": 111,
   "id": "60e18703",
   "metadata": {},
   "outputs": [
    {
     "ename": "TypeError",
     "evalue": "must be real number, not str",
     "output_type": "error",
     "traceback": [
      "\u001b[31m---------------------------------------------------------------------------\u001b[39m",
      "\u001b[31mTypeError\u001b[39m                                 Traceback (most recent call last)",
      "\u001b[36mCell\u001b[39m\u001b[36m \u001b[39m\u001b[32mIn[111]\u001b[39m\u001b[32m, line 6\u001b[39m\n\u001b[32m      4\u001b[39m \u001b[38;5;28;01mfor\u001b[39;00m index_j, j \u001b[38;5;129;01min\u001b[39;00m \u001b[38;5;28menumerate\u001b[39m(i):\n\u001b[32m      5\u001b[39m     val_matriz = matriz[index][index_j]\n\u001b[32m----> \u001b[39m\u001b[32m6\u001b[39m     distancia = \u001b[43mmath\u001b[49m\u001b[43m.\u001b[49m\u001b[43mdist\u001b[49m\u001b[43m(\u001b[49m\u001b[43mk\u001b[49m\u001b[43m,\u001b[49m\u001b[43m \u001b[49m\u001b[43mval_matriz\u001b[49m\u001b[43m)\u001b[49m  \n\u001b[32m      7\u001b[39m     lista.append({\u001b[33m'\u001b[39m\u001b[33mdist\u001b[39m\u001b[33m'\u001b[39m: distancia, \u001b[33m'\u001b[39m\u001b[33mval_matriz\u001b[39m\u001b[33m'\u001b[39m: val_matriz})\n",
      "\u001b[31mTypeError\u001b[39m: must be real number, not str"
     ]
    }
   ],
   "source": [
    "k = (676, 141)\n",
    "lista = []\n",
    "for index, i in enumerate(matriz):\n",
    "    for index_j, j in enumerate(i):\n",
    "        val_matriz = matriz[index][index_j]\n",
    "        distancia = math.dist(k, val_matriz)  \n",
    "        lista.append({'dist': distancia, 'val_matriz': val_matriz})"
   ]
  },
  {
   "cell_type": "code",
   "execution_count": 104,
   "id": "33cec8df",
   "metadata": {},
   "outputs": [
    {
     "data": {
      "text/plain": [
       "array([ 1,  1,  0,  0,  1, -1,  1,  0,  0,  1, -1,  0, -1,  0,  1,  0])"
      ]
     },
     "execution_count": 104,
     "metadata": {},
     "output_type": "execute_result"
    }
   ],
   "source": [
    "lista"
   ]
  },
  {
   "cell_type": "code",
   "execution_count": null,
   "id": "02d1b880",
   "metadata": {},
   "outputs": [],
   "source": []
  },
  {
   "cell_type": "code",
   "execution_count": 113,
   "id": "1e918390",
   "metadata": {},
   "outputs": [
    {
     "name": "stdout",
     "output_type": "stream",
     "text": [
      "{'posicao': (0.0, 0.0), 'valor': 1}\n",
      "{'posicao': (100.0, 0.0), 'valor': -1}\n",
      "{'posicao': (200.0, 0.0), 'valor': 1}\n",
      "{'posicao': (300.0, 0.0), 'valor': 1}\n",
      "{'posicao': (0.0, 100.0), 'valor': 1}\n",
      "{'posicao': (100.0, 100.0), 'valor': 0}\n",
      "{'posicao': (200.0, 100.0), 'valor': 1}\n",
      "{'posicao': (300.0, 100.0), 'valor': 0}\n",
      "{'posicao': (0.0, 200.0), 'valor': 0}\n",
      "{'posicao': (100.0, 200.0), 'valor': -1}\n",
      "{'posicao': (200.0, 200.0), 'valor': 0}\n",
      "{'posicao': (300.0, 200.0), 'valor': 0}\n",
      "{'posicao': (0.0, 300.0), 'valor': 0}\n",
      "{'posicao': (100.0, 300.0), 'valor': 1}\n",
      "{'posicao': (200.0, 300.0), 'valor': 0}\n",
      "{'posicao': (300.0, 300.0), 'valor': -1}\n"
     ]
    }
   ],
   "source": [
    "for i in matriz:\n",
    "    for k in i:\n",
    "        print(k)"
   ]
  },
  {
   "cell_type": "code",
   "execution_count": 115,
   "id": "5940c148",
   "metadata": {},
   "outputs": [
    {
     "data": {
      "text/plain": [
       "{'posicao': (0.0, 0.0), 'valor': 1}"
      ]
     },
     "execution_count": 115,
     "metadata": {},
     "output_type": "execute_result"
    }
   ],
   "source": [
    "matriz[0][0]"
   ]
  }
 ],
 "metadata": {
  "kernelspec": {
   "display_name": "Project_PyGame",
   "language": "python",
   "name": "project_pygame"
  },
  "language_info": {
   "codemirror_mode": {
    "name": "ipython",
    "version": 3
   },
   "file_extension": ".py",
   "mimetype": "text/x-python",
   "name": "python",
   "nbconvert_exporter": "python",
   "pygments_lexer": "ipython3",
   "version": "3.11.12"
  }
 },
 "nbformat": 4,
 "nbformat_minor": 5
}
